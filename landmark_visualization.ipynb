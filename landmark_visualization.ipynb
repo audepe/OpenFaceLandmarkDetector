{
 "cells": [
  {
   "cell_type": "code",
   "execution_count": null,
   "metadata": {},
   "outputs": [],
   "source": [
    "import matplotlib.pyplot as plt\n",
    "import matplotlib.image as mpimg\n",
    "import json"
   ]
  },
  {
   "cell_type": "code",
   "execution_count": null,
   "metadata": {},
   "outputs": [],
   "source": []
  },
  {
   "cell_type": "code",
   "execution_count": null,
   "metadata": {},
   "outputs": [],
   "source": [
    "for filename in os.listdir('./test_images'):\n",
    "    if os.path.exists('./landmarks/' + filename[:-4] + \".json\"):\n",
    "        plt.figure()\n",
    "        imgplot = plt.imshow(mpimg.imread('./test_images/' + filename))\n",
    "        with open('./landmarks/' + filename[:-4] + \".json\", \"r\") as read_file:\n",
    "            data = json.load(read_file)\n",
    "        for point in data:\n",
    "            plt.plot(point[0], point[1], marker='.', markersize=3, color='red')\n",
    "\n",
    "        #plt.savefig('./pointed_face/'+ filename +'.png')\n",
    "    else:\n",
    "        print('No hay landmarks para ' + filename)\n",
    "\n",
    "\n",
    "\n"
   ]
  }
 ],
 "metadata": {
  "language_info": {
   "codemirror_mode": {
    "name": "ipython",
    "version": 3
   },
   "file_extension": ".py",
   "mimetype": "text/x-python",
   "name": "python",
   "nbconvert_exporter": "python",
   "pygments_lexer": "ipython3",
   "version": "3.7.6-final"
  },
  "orig_nbformat": 2,
  "kernelspec": {
   "name": "python37664bitputovenv3989daed5378472385d578a757b1a5a2",
   "display_name": "Python 3.7.6 64-bit ('puto': venv)"
  }
 },
 "nbformat": 4,
 "nbformat_minor": 2
}